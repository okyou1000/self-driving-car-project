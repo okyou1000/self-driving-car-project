{
 "cells": [
  {
   "cell_type": "code",
   "execution_count": 1,
   "metadata": {},
   "outputs": [
    {
     "name": "stderr",
     "output_type": "stream",
     "text": [
      "C:\\Users\\USER\\Downloads\\jupyter_notebook\\self-driving-car-master\\project_1_lane_finding_basic\\lane_detection.py:49: SyntaxWarning: \"is\" with a literal. Did you mean \"==\"?\n",
      "  if len(img.shape) is 2:\n"
     ]
    }
   ],
   "source": [
    "import matplotlib.pyplot as plt\n",
    "import cv2\n",
    "import os\n",
    "from os.path import join, basename\n",
    "from collections import deque\n",
    "from lane_detection import color_frame_pipeline"
   ]
  },
  {
   "cell_type": "code",
   "execution_count": null,
   "metadata": {},
   "outputs": [
    {
     "name": "stdout",
     "output_type": "stream",
     "text": [
      "Processing image: data\\test_images\\00a820ef-d655700e.jpg\n"
     ]
    },
    {
     "name": "stderr",
     "output_type": "stream",
     "text": [
      "<ipython-input-4-a6135b3a59f4>:25: UserWarning: Matplotlib is currently using module://ipykernel.pylab.backend_inline, which is a non-GUI backend, so cannot show the figure.\n",
      "  plt.waitforbuttonpress()\n"
     ]
    }
   ],
   "source": [
    "if __name__ == '__main__':\n",
    "\n",
    "    resize_h, resize_w = 540, 960\n",
    "\n",
    "    verbose = True\n",
    "    if verbose:\n",
    "        plt.ion()\n",
    "#         figManager = plt.get_current_fig_manager()\n",
    "#         figManager.window.showMaximized()\n",
    "\n",
    "    # test on images\n",
    "    test_images_dir = join('data', 'test_images')\n",
    "    test_images = [join(test_images_dir, name) for name in os.listdir(test_images_dir)]\n",
    "\n",
    "    for test_img in test_images:\n",
    "\n",
    "        print('Processing image: {}'.format(test_img))\n",
    "\n",
    "        out_path = join('out', 'images', basename(test_img))\n",
    "        in_image = cv2.cvtColor(cv2.imread(test_img, cv2.IMREAD_COLOR), cv2.COLOR_BGR2RGB)\n",
    "        out_image = color_frame_pipeline([in_image], solid_lines=True)\n",
    "        cv2.imwrite(out_path, cv2.cvtColor(out_image, cv2.COLOR_RGB2BGR))\n",
    "        if verbose:\n",
    "            plt.imshow(out_image)\n",
    "            plt.waitforbuttonpress()\n",
    "    plt.close('all')\n",
    "\n",
    "    # test on videos\n",
    "    test_videos_dir = join('data', 'test_videos')\n",
    "    test_videos = [join(test_videos_dir, name) for name in os.listdir(test_videos_dir)]\n",
    "\n",
    "    for test_video in test_videos:\n",
    "\n",
    "        print('Processing video: {}'.format(test_video))\n",
    "\n",
    "        cap = cv2.VideoCapture(test_video)\n",
    "        out = cv2.VideoWriter(join('out', 'videos', basename(test_video)),\n",
    "                              fourcc=cv2.VideoWriter_fourcc(*'DIVX'),\n",
    "                              fps=20.0, frameSize=(resize_w, resize_h))\n",
    "\n",
    "        frame_buffer = deque(maxlen=10)\n",
    "        while cap.isOpened():\n",
    "            ret, color_frame = cap.read()\n",
    "            if ret:\n",
    "                color_frame = cv2.cvtColor(color_frame, cv2.COLOR_BGR2RGB)\n",
    "                color_frame = cv2.resize(color_frame, (resize_w, resize_h))\n",
    "                frame_buffer.append(color_frame)\n",
    "                blend_frame = color_frame_pipeline(frames=frame_buffer, solid_lines=True, temporal_smoothing=True)\n",
    "                out.write(cv2.cvtColor(blend_frame, cv2.COLOR_RGB2BGR))\n",
    "                cv2.imshow('blend', cv2.cvtColor(blend_frame, cv2.COLOR_RGB2BGR)), cv2.waitKey(1)\n",
    "            else:\n",
    "                break\n",
    "        cap.release()\n",
    "        out.release()\n",
    "        cv2.destroyAllWindows()"
   ]
  },
  {
   "cell_type": "code",
   "execution_count": null,
   "metadata": {},
   "outputs": [],
   "source": []
  }
 ],
 "metadata": {
  "kernelspec": {
   "display_name": "Python 3",
   "language": "python",
   "name": "python3"
  },
  "language_info": {
   "codemirror_mode": {
    "name": "ipython",
    "version": 3
   },
   "file_extension": ".py",
   "mimetype": "text/x-python",
   "name": "python",
   "nbconvert_exporter": "python",
   "pygments_lexer": "ipython3",
   "version": "3.8.3"
  }
 },
 "nbformat": 4,
 "nbformat_minor": 4
}
